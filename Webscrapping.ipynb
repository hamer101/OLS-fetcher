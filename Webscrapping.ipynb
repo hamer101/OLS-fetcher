{
 "cells": [
  {
   "cell_type": "code",
   "execution_count": null,
   "id": "3ab9d29e-1b48-4d02-a82c-eaf738e96297",
   "metadata": {},
   "outputs": [],
   "source": [
    "import re\n",
    "import json\n",
    "import requests\n",
    "from bs4 import BeautifulSoup\n",
    "\n",
    "MAIN = 'https://app.erasmusplusols.eu/'\n",
    "LOGIN_POST = 'https://app.erasmusplusols.eu/auth/login/user'\n",
    "login_details = {'_token'   : '',\n",
    "                 'login'    : '',\n",
    "                 'password' : ''}\n",
    "credentials = {'x-altissia-token'  : '',\n",
    "               'x-device-uuid'     : ''}\n",
    "\n",
    "def recieveCredentials(input):\n",
    "    matches = re.findall(r\"\\'[^\\']*\\'\", input)\n",
    "    return [match.strip('\\'') for match in matches]    \n",
    "        \n",
    "with requests.Session() as s:\n",
    "    login_page = s.get(MAIN)\n",
    "    login_soup = BeautifulSoup(login_page.text, 'html5lib')\n",
    "    token = login_soup.find('input', {'name':'_token'}).get('value')\n",
    "    login_details['_token'] = token\n",
    "    \n",
    "    dashboard_page = s.post(LOGIN_POST, data=login_details)\n",
    "    dashboard_soup = BeautifulSoup(dashboard_page.text, 'html5lib')\n",
    "    credential_script = dashboard_soup.find_all('script')\n",
    "    credential_lines = list(credential_script[3].children)[0].get_text().splitlines()\n",
    "    credentials['x-device-uuid'] = recieveCredentials(credential_lines[5])[1]\n",
    "    credentials['x-altissia-token'] = recieveCredentials(credential_lines[6])[1]\n",
    "\n"
   ]
  },
  {
   "cell_type": "code",
   "execution_count": null,
   "id": "9273789b-e81d-4149-9d28-9a700d25e2b7",
   "metadata": {},
   "outputs": [],
   "source": [
    "missions_page = s.get('https://app.erasmusplusols.eu/gw//lcapi/main/api/lc/user-learning-paths/language/en_GB', headers = credentials)\n",
    "missions_dict = json.loads(missions_page.text)\n",
    "lessons_list = [lessons_val['externalId']\n",
    "                for mission_val in missions_dict['missions'][104:]\n",
    "                for lessons_val in mission_val['lessons']]\n",
    "print(json.dumps(lessons_list, sort_keys=False, indent=4))"
   ]
  },
  {
   "cell_type": "code",
   "execution_count": null,
   "id": "8fa22075-b587-4a21-be2e-c6ef40e28391",
   "metadata": {},
   "outputs": [],
   "source": [
    "curriculum = []\n",
    "\n",
    "for lesson in lessons_list:\n",
    "    \n",
    "    activities_url = f'https://app.erasmusplusols.eu/gw//lcapi/main/api/lc/lessons/{lesson}'\n",
    "    \n",
    "    activities_page = s.get(activities_url, headers = credentials)\n",
    "    activities_dict_raw = json.loads(activities_page.text)\n",
    "    activities_list = []    \n",
    "    no_summary_test = False if activities_dict_raw['activities'][-1]['activityType'] == 'SUMMARY_TEST' else True\n",
    "    \n",
    "    for activity in activities_dict_raw['activities']:\n",
    "        activity_id = activity['externalId']\n",
    "        activity_dict = {'activityType' : activity['activityType'],\n",
    "                         'externalId'   : activity_id,\n",
    "                         'obligatoriness'   : no_summary_test}    \n",
    "            \n",
    "        if activity['activityType'] == 'SUMMARY_TEST' or activity['activityType'] == 'EXERCISE':\n",
    "            \n",
    "            answers_url = f'{activities_url}/activities/{activity_id}?translationLg=en_GB'\n",
    "                \n",
    "            answers_page = s.get(answers_url, headers = credentials)\n",
    "            answers_dict_raw = json.loads(answers_page.text)\n",
    "            answers_items_dict = answers_dict_raw['content']['items']\n",
    "            answers = [item['correctAnswers'][0][0] for item in answers_items_dict]\n",
    "            \n",
    "            if activity['activityType'] == 'SUMMARY_TEST': \n",
    "                activity_dict['obligatoriness'] = True \n",
    "            activity_dict['answers'] = answers\n",
    "            \n",
    "            \n",
    "        activities_list.append(activity_dict)\n",
    "    \n",
    "    curriculum.append({'title'      : lesson,\n",
    "                       'activities' : activities_list})\n",
    "    \n",
    "#print(json.dumps(curriculum, sort_keys=False, indent=4))"
   ]
  },
  {
   "cell_type": "code",
   "execution_count": null,
   "id": "673aaa74-473c-404f-a0cd-6448d186ad03",
   "metadata": {},
   "outputs": [],
   "source": [
    "print(json.dumps(curriculum[0]['activities'], sort_keys=False, indent=4))"
   ]
  },
  {
   "cell_type": "code",
   "execution_count": null,
   "id": "b28c9989-9f91-4cc4-852b-70f4a49f302c",
   "metadata": {},
   "outputs": [],
   "source": [
    "separator = \" </br>\"\n",
    "\n",
    "necessity = []\n",
    "\n",
    "for lesson in curriculum:\n",
    "    necessary_activities = [{#'Lesson'  : activity['externalId'],\n",
    "                             'Type'    : activity['activityType'] + ': ' + activity['externalId'].lower(),\n",
    "                             'What do' : activity.get('answers', ['Just click it'])}\n",
    "                            for activity in lesson['activities'] if activity['obligatoriness'] == True]\n",
    "    \n",
    "    necessary_lesson = {'Title'    : lesson['title'],\n",
    "                         'Must do' : necessary_activities}\n",
    "    necessity.append(necessary_lesson)\n",
    "    \n",
    "\n",
    "\n",
    "with open('necessity.html','w') as f:\n",
    "    f.write(separator.join(json.dumps(necessity, sort_keys=False, indent=4).splitlines()))"
   ]
  },
  {
   "cell_type": "code",
   "execution_count": null,
   "id": "d7d7d16d-ec74-47bb-9491-7ee5ba8af0b3",
   "metadata": {},
   "outputs": [],
   "source": [
    "def checkType(obj):\n",
    "    return isinstance(obj, list) and all(isinstance(elem, str) for elem in obj)"
   ]
  },
  {
   "cell_type": "code",
   "execution_count": null,
   "id": "e643beda-924b-40c3-ad9e-a1575ae20caa",
   "metadata": {},
   "outputs": [],
   "source": [
    "def printItems(dictObj, parent, indent, list_type = 'ul'):\n",
    "    html_list = ''\n",
    "    tabulation = '  ' * indent\n",
    "    if len(dictObj):\n",
    "        if isinstance(dictObj, str):\n",
    "            #print(f'{tabulation}<li>{dictObj}</li>')\n",
    "            html_list += f'{tabulation}<li>{dictObj}</li>\\n'\n",
    "        else:\n",
    "            #print(f'{tabulation}<ul>')\n",
    "            html_list += f'{tabulation}<{list_type}>\\n'\n",
    "            dictObj = {num : el for num, el in enumerate(dictObj)} if isinstance(dictObj, list) else dictObj\n",
    "            for k,v in dictObj.items():\n",
    "                html_list += printItems(v, k, indent+1, 'ol') if checkType(v) and len(v) > 1 else printItems(v, k, indent+1)\n",
    "            #print(f'{tabulation}</ul>')\n",
    "            html_list += f'{tabulation}</{list_type}>\\n'\n",
    "            \n",
    "    return html_list"
   ]
  },
  {
   "cell_type": "code",
   "execution_count": null,
   "id": "5481c09f-a29c-4c0f-a0dd-db2ceda1e496",
   "metadata": {},
   "outputs": [],
   "source": [
    "with open('list.html','w', encoding = 'utf-8') as f:\n",
    "    f.write(''.join(printItems(necessity, 'root', 0).splitlines()))"
   ]
  },
  {
   "cell_type": "code",
   "execution_count": null,
   "id": "a0be90d7-cd08-4da9-84c1-de4b8235f3b1",
   "metadata": {},
   "outputs": [],
   "source": [
    "with open('curriculum.json', 'w') as f:\n",
    "    json.dump(curriculum, f)"
   ]
  },
  {
   "cell_type": "code",
   "execution_count": null,
   "id": "5431fd4f-32d8-4836-8616-aaff9e04e425",
   "metadata": {},
   "outputs": [],
   "source": [
    "separator = \" </br>\"\n",
    "with open('test.html','w', encoding = 'utf-8') as f:\n",
    "    f.write(separator.join(answers))"
   ]
  }
 ],
 "metadata": {
  "kernelspec": {
   "display_name": "Python 3 (ipykernel)",
   "language": "python",
   "name": "python3"
  },
  "language_info": {
   "codemirror_mode": {
    "name": "ipython",
    "version": 3
   },
   "file_extension": ".py",
   "mimetype": "text/x-python",
   "name": "python",
   "nbconvert_exporter": "python",
   "pygments_lexer": "ipython3",
   "version": "3.8.12"
  },
  "toc-showcode": false,
  "toc-showmarkdowntxt": false,
  "toc-showtags": false
 },
 "nbformat": 4,
 "nbformat_minor": 5
}
